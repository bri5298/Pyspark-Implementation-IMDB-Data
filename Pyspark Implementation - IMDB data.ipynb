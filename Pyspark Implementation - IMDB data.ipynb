{
 "cells": [
  {
   "cell_type": "code",
   "execution_count": null,
   "id": "d21e7bb1",
   "metadata": {},
   "outputs": [],
   "source": [
    "import sys\n",
    "import os\n",
    "if os.getcwd().endswith('notebooks'):\n",
    "    os.chdir(\"..\")\n",
    "print(os.getcwd())"
   ]
  },
  {
   "cell_type": "markdown",
   "id": "46d7adaa",
   "metadata": {},
   "source": [
    "## Imports "
   ]
  },
  {
   "cell_type": "code",
   "execution_count": 2,
   "id": "5de29e51",
   "metadata": {},
   "outputs": [],
   "source": [
    "import pandas as pd\n",
    "import numpy as np\n",
    "from pyspark.sql import SparkSession\n",
    "from pyspark import SparkContext\n",
    "from pyspark.sql.functions import col, countDistinct\n",
    "from pyspark.sql.types import DoubleType\n",
    "from pyspark.sql.functions import col, round, rank\n",
    "from pyspark.sql.window import Window\n",
    "import warnings\n",
    "warnings.filterwarnings(\"ignore\")"
   ]
  },
  {
   "cell_type": "markdown",
   "id": "b2e98bac",
   "metadata": {},
   "source": [
    "# Initialize pyspark"
   ]
  },
  {
   "cell_type": "code",
   "execution_count": null,
   "id": "2a27bf65",
   "metadata": {},
   "outputs": [],
   "source": [
    "spark = SparkSession.builder.appName(\"SQL in PySpark\").getOrCreate()"
   ]
  },
  {
   "cell_type": "markdown",
   "id": "e088f104",
   "metadata": {},
   "source": [
    "# Import and view the data "
   ]
  },
  {
   "cell_type": "code",
   "execution_count": 4,
   "id": "9b7006dc",
   "metadata": {},
   "outputs": [
    {
     "name": "stderr",
     "output_type": "stream",
     "text": [
      "[Stage 1:>                                                          (0 + 4) / 4]\r"
     ]
    },
    {
     "name": "stdout",
     "output_type": "stream",
     "text": [
      "Dataframe has 1034420 rows ---> 7 columns\n",
      "\n",
      "\n",
      "root\n",
      " |-- tconst: string (nullable = true)\n",
      " |-- titleType: string (nullable = true)\n",
      " |-- primaryTitle: string (nullable = true)\n",
      " |-- isAdult: string (nullable = true)\n",
      " |-- startYear: string (nullable = true)\n",
      " |-- runtimeMinutes: string (nullable = true)\n",
      " |-- genres: string (nullable = true)\n",
      "\n"
     ]
    },
    {
     "name": "stderr",
     "output_type": "stream",
     "text": [
      "\r",
      "                                                                                \r"
     ]
    }
   ],
   "source": [
    "df_info = spark.read.csv(os.path.join('data', 'movie_general.tsv'), header=True, sep='\\t')\n",
    "# Print the shape of the data\n",
    "print(f\"Dataframe has {df_info.count()} rows ---> {len(df_info.columns)} columns\\n\\n\")\n",
    "df_info.printSchema()"
   ]
  },
  {
   "cell_type": "markdown",
   "id": "ca877ed9",
   "metadata": {},
   "source": [
    "### Number of unique values per column"
   ]
  },
  {
   "cell_type": "code",
   "execution_count": 5,
   "id": "2fd32583",
   "metadata": {},
   "outputs": [
    {
     "name": "stderr",
     "output_type": "stream",
     "text": [
      "[Stage 6:>                                                          (0 + 4) / 4]\r"
     ]
    },
    {
     "name": "stdout",
     "output_type": "stream",
     "text": [
      "+-------+---------+------------+-------+---------+--------------+------+\n",
      "| tconst|titleType|primaryTitle|isAdult|startYear|runtimeMinutes|genres|\n",
      "+-------+---------+------------+-------+---------+--------------+------+\n",
      "|1034420|        9|      921111|      2|       46|           813|  2119|\n",
      "+-------+---------+------------+-------+---------+--------------+------+\n",
      "\n"
     ]
    },
    {
     "name": "stderr",
     "output_type": "stream",
     "text": [
      "\r",
      "[Stage 6:=============================>                             (2 + 2) / 4]\r",
      "\r",
      "                                                                                \r"
     ]
    }
   ],
   "source": [
    "expression = [countDistinct(c).alias(c) for c in df_info.columns]\n",
    "df_info.select(*expression).show()"
   ]
  },
  {
   "cell_type": "markdown",
   "id": "e6bb1863",
   "metadata": {},
   "source": [
    "# Import Ratings data"
   ]
  },
  {
   "cell_type": "code",
   "execution_count": 6,
   "id": "4f5099aa",
   "metadata": {},
   "outputs": [
    {
     "name": "stdout",
     "output_type": "stream",
     "text": [
      "Dataframe has 1275973 rows ---> 3 columns\n",
      "\n",
      "\n",
      "root\n",
      " |-- tconst: string (nullable = true)\n",
      " |-- averageRating: string (nullable = true)\n",
      " |-- numVotes: string (nullable = true)\n",
      "\n"
     ]
    }
   ],
   "source": [
    "df_ratings = spark.read.csv(os.path.join('data', 'movie_ratings.tsv'), header=True, sep='\\t')\n",
    "print(f\"Dataframe has {df_ratings.count()} rows ---> {len(df_ratings.columns)} columns\\n\\n\")\n",
    "df_ratings.printSchema()"
   ]
  },
  {
   "cell_type": "markdown",
   "id": "e394a1ab",
   "metadata": {},
   "source": [
    "## Number of unique values per column"
   ]
  },
  {
   "cell_type": "code",
   "execution_count": 7,
   "id": "d55b0d72",
   "metadata": {},
   "outputs": [
    {
     "name": "stderr",
     "output_type": "stream",
     "text": [
      "[Stage 14:==============>                                           (1 + 3) / 4]\r"
     ]
    },
    {
     "name": "stdout",
     "output_type": "stream",
     "text": [
      "+-------+-------------+--------+\n",
      "| tconst|averageRating|numVotes|\n",
      "+-------+-------------+--------+\n",
      "|1275973|           91|   20963|\n",
      "+-------+-------------+--------+\n",
      "\n"
     ]
    },
    {
     "name": "stderr",
     "output_type": "stream",
     "text": [
      "\r",
      "                                                                                \r"
     ]
    }
   ],
   "source": [
    "expression = [countDistinct(c).alias(c) for c in df_ratings.columns]\n",
    "df_ratings.select(*expression).show()"
   ]
  },
  {
   "cell_type": "markdown",
   "id": "8d23e201",
   "metadata": {},
   "source": [
    "# Join the 2 dfs by 'tconst' column"
   ]
  },
  {
   "cell_type": "code",
   "execution_count": 8,
   "id": "ce681d49",
   "metadata": {
    "scrolled": false
   },
   "outputs": [
    {
     "name": "stderr",
     "output_type": "stream",
     "text": [
      "                                                                                \r"
     ]
    },
    {
     "name": "stdout",
     "output_type": "stream",
     "text": [
      "Dataframe has 1034420 rows ---> 9 columns\n",
      "\n",
      "\n",
      "root\n",
      " |-- tconst: string (nullable = true)\n",
      " |-- titleType: string (nullable = true)\n",
      " |-- primaryTitle: string (nullable = true)\n",
      " |-- isAdult: string (nullable = true)\n",
      " |-- startYear: string (nullable = true)\n",
      " |-- runtimeMinutes: string (nullable = true)\n",
      " |-- genres: string (nullable = true)\n",
      " |-- averageRating: string (nullable = true)\n",
      " |-- numVotes: string (nullable = true)\n",
      "\n",
      "None\n"
     ]
    },
    {
     "name": "stderr",
     "output_type": "stream",
     "text": [
      "                                                                                \r"
     ]
    },
    {
     "name": "stdout",
     "output_type": "stream",
     "text": [
      "+----------+---------+--------------------+-------+---------+--------------+--------------------+-------------+--------+\n",
      "|    tconst|titleType|        primaryTitle|isAdult|startYear|runtimeMinutes|              genres|averageRating|numVotes|\n",
      "+----------+---------+--------------------+-------+---------+--------------+--------------------+-------------+--------+\n",
      "|tt18302012|tvSpecial|          NHK Trophy|      0|     2019|            \\N|               Sport|         null|    null|\n",
      "|tt18302040|tvSpecial|      Mission Health|      0|     2016|            \\N|           Talk-Show|         null|    null|\n",
      "| tt5117572|    video|Hiru wa shika jos...|      1|     2013|           120|               Adult|         null|    null|\n",
      "| tt5117670|    movie|        Peter Rabbit|      0|     2018|            95|Adventure,Comedy,...|          6.6|   44223|\n",
      "| tt5117706|    video|Hiru wa shika jos...|      1|     2013|           150|               Adult|         null|    null|\n",
      "+----------+---------+--------------------+-------+---------+--------------+--------------------+-------------+--------+\n",
      "only showing top 5 rows\n",
      "\n"
     ]
    }
   ],
   "source": [
    "# Using the classic SQL format\n",
    "df_info.createOrReplaceTempView(\"INFO\")\n",
    "df_ratings.createOrReplaceTempView(\"RATINGS\")\n",
    "keep_cols = [\n",
    "    \"INFO.tconst\", \"INFO.titleType\", \"INFO.primaryTitle\", \"INFO.isAdult\", \"INFO.startYear\", \n",
    "    \"INFO.runtimeMinutes\", \"INFO.genres\", \"RATINGS.averageRating\", \"RATINGS.numVotes\",\n",
    "]\n",
    "df = spark.sql(f\"select {', '.join(keep_cols)} from INFO LEFT JOIN RATINGS ON INFO.tconst = RATINGS.tconst\")\n",
    "print(f\"Dataframe has {df.count()} rows ---> {len(df.columns)} columns\\n\\n\")\n",
    "print(df.printSchema())\n",
    "df.show(5)"
   ]
  },
  {
   "cell_type": "markdown",
   "id": "929ffee9",
   "metadata": {},
   "source": [
    "### Convert number columns to type Double"
   ]
  },
  {
   "cell_type": "code",
   "execution_count": 9,
   "id": "91911414",
   "metadata": {},
   "outputs": [
    {
     "name": "stdout",
     "output_type": "stream",
     "text": [
      "root\n",
      " |-- tconst: string (nullable = true)\n",
      " |-- titleType: string (nullable = true)\n",
      " |-- primaryTitle: string (nullable = true)\n",
      " |-- isAdult: string (nullable = true)\n",
      " |-- startYear: string (nullable = true)\n",
      " |-- runtimeMinutes: string (nullable = true)\n",
      " |-- genres: string (nullable = true)\n",
      " |-- averageRating: double (nullable = true)\n",
      " |-- numVotes: double (nullable = true)\n",
      "\n"
     ]
    }
   ],
   "source": [
    "cols_to_double = ['averageRating', 'numVotes']\n",
    "for col in cols_to_double:\n",
    "    df = df.withColumn(col, round(df[col].cast(DoubleType()),2))\n",
    "df.printSchema()"
   ]
  },
  {
   "cell_type": "markdown",
   "id": "6b244e44",
   "metadata": {},
   "source": [
    "### View unique values in column"
   ]
  },
  {
   "cell_type": "code",
   "execution_count": 10,
   "id": "e561f256",
   "metadata": {},
   "outputs": [
    {
     "name": "stderr",
     "output_type": "stream",
     "text": [
      "                                                                                \r"
     ]
    },
    {
     "data": {
      "text/plain": [
       "[Row(titleType='tvSeries'),\n",
       " Row(titleType='tvMiniSeries'),\n",
       " Row(titleType='tvMovie'),\n",
       " Row(titleType='movie'),\n",
       " Row(titleType='tvSpecial'),\n",
       " Row(titleType='video'),\n",
       " Row(titleType='videoGame'),\n",
       " Row(titleType='tvShort'),\n",
       " Row(titleType='tvPilot')]"
      ]
     },
     "execution_count": 10,
     "metadata": {},
     "output_type": "execute_result"
    }
   ],
   "source": [
    "df.select('titleType').distinct().collect()"
   ]
  },
  {
   "cell_type": "markdown",
   "id": "8d50adba",
   "metadata": {},
   "source": [
    "# Filtering the data"
   ]
  },
  {
   "cell_type": "markdown",
   "id": "233b8e60",
   "metadata": {},
   "source": [
    "### Keep only columns from list"
   ]
  },
  {
   "cell_type": "code",
   "execution_count": 11,
   "id": "b52fa922",
   "metadata": {},
   "outputs": [],
   "source": [
    "keep_cols = [\n",
    "    \"tconst\", \"titleType\", \"primaryTitle\", \"isAdult\", \"startYear\",\n",
    "    \"runtimeMinutes\", \"genres\", \"averageRating\", \"numVotes\",\n",
    "]\n",
    "df = df.select(*keep_cols)"
   ]
  },
  {
   "cell_type": "markdown",
   "id": "fc3d1d39",
   "metadata": {},
   "source": [
    "### Keep only the movies made after 1990"
   ]
  },
  {
   "cell_type": "code",
   "execution_count": 12,
   "id": "087d38e0",
   "metadata": {},
   "outputs": [],
   "source": [
    "df = df.where(df.startYear >= 1990)"
   ]
  },
  {
   "cell_type": "markdown",
   "id": "873701e1",
   "metadata": {},
   "source": [
    "### Filter 'titleType'"
   ]
  },
  {
   "cell_type": "code",
   "execution_count": 13,
   "id": "7e38339a",
   "metadata": {},
   "outputs": [],
   "source": [
    "titles_to_exclude = ['video', 'videoGame', 'tvShort',]\n",
    "df = df.filter(~(df.titleType.isin(titles_to_exclude)))"
   ]
  },
  {
   "cell_type": "markdown",
   "id": "35e51ceb",
   "metadata": {},
   "source": [
    "### Remove the ones without raitings"
   ]
  },
  {
   "cell_type": "code",
   "execution_count": 14,
   "id": "d6a625f9",
   "metadata": {},
   "outputs": [
    {
     "name": "stderr",
     "output_type": "stream",
     "text": [
      "[Stage 36:===========================================>              (3 + 1) / 4]\r"
     ]
    },
    {
     "name": "stdout",
     "output_type": "stream",
     "text": [
      "+---------+---------+------------+-------+---------+--------------+--------------------+-------------+--------+\n",
      "|   tconst|titleType|primaryTitle|isAdult|startYear|runtimeMinutes|              genres|averageRating|numVotes|\n",
      "+---------+---------+------------+-------+---------+--------------+--------------------+-------------+--------+\n",
      "|tt0059325|    movie| Born in '45|      0|     1990|           100|       Drama,Romance|          6.4|   250.0|\n",
      "|tt0075259|    movie|   Spy Story|      0|     1990|           103|Action,Drama,Mystery|          6.0|    53.0|\n",
      "|tt0077432|    movie| Bloody Hero|      0|     1991|            85|        Action,Drama|          5.4|    13.0|\n",
      "+---------+---------+------------+-------+---------+--------------+--------------------+-------------+--------+\n",
      "only showing top 3 rows\n",
      "\n"
     ]
    },
    {
     "name": "stderr",
     "output_type": "stream",
     "text": [
      "\r",
      "                                                                                \r"
     ]
    }
   ],
   "source": [
    "df.createOrReplaceTempView(\"DF\")\n",
    "df = spark.sql(f\"select * FROM DF WHERE DF.averageRating IS NOT NULL\")\n",
    "df.show(3)"
   ]
  },
  {
   "cell_type": "markdown",
   "id": "503a4662",
   "metadata": {},
   "source": [
    "# Table Operations"
   ]
  },
  {
   "cell_type": "markdown",
   "id": "8ba80c06",
   "metadata": {},
   "source": [
    "### Avg, max, min of columns"
   ]
  },
  {
   "cell_type": "code",
   "execution_count": 15,
   "id": "1d11ca38",
   "metadata": {},
   "outputs": [
    {
     "name": "stderr",
     "output_type": "stream",
     "text": [
      "                                                                                \r"
     ]
    },
    {
     "name": "stdout",
     "output_type": "stream",
     "text": [
      "+------------------+------------------+\n",
      "|avg(averageRating)|     avg(numVotes)|\n",
      "+------------------+------------------+\n",
      "| 6.456809838814827|3151.2246902077704|\n",
      "+------------------+------------------+\n",
      "\n"
     ]
    },
    {
     "name": "stderr",
     "output_type": "stream",
     "text": [
      "                                                                                \r"
     ]
    },
    {
     "name": "stdout",
     "output_type": "stream",
     "text": [
      "+------------------+-------------+\n",
      "|max(averageRating)|max(numVotes)|\n",
      "+------------------+-------------+\n",
      "|              10.0|    2696853.0|\n",
      "+------------------+-------------+\n",
      "\n"
     ]
    },
    {
     "name": "stderr",
     "output_type": "stream",
     "text": [
      "[Stage 62:>                                                         (0 + 4) / 4]\r"
     ]
    },
    {
     "name": "stdout",
     "output_type": "stream",
     "text": [
      "+------------------+-------------+\n",
      "|min(averageRating)|min(numVotes)|\n",
      "+------------------+-------------+\n",
      "|               1.0|          5.0|\n",
      "+------------------+-------------+\n",
      "\n",
      "None None None\n"
     ]
    },
    {
     "name": "stderr",
     "output_type": "stream",
     "text": [
      "\r",
      "                                                                                \r"
     ]
    }
   ],
   "source": [
    "# of averageRating and numVotes columns\n",
    "print(\n",
    "    df.agg({'averageRating': 'avg', 'numVotes': 'avg'}).show(), \n",
    "    df.agg({'averageRating': 'max', 'numVotes': 'max'}).show(), \n",
    "    df.agg({'averageRating': 'min', 'numVotes': 'min'}).show(),\n",
    ")"
   ]
  },
  {
   "cell_type": "markdown",
   "id": "e3a4bd4a",
   "metadata": {},
   "source": [
    "### Sum of numVotes column"
   ]
  },
  {
   "cell_type": "code",
   "execution_count": 16,
   "id": "187e514e",
   "metadata": {},
   "outputs": [
    {
     "name": "stderr",
     "output_type": "stream",
     "text": [
      "[Stage 71:>                                                         (0 + 4) / 4]\r"
     ]
    },
    {
     "name": "stdout",
     "output_type": "stream",
     "text": [
      "+-------------+\n",
      "|sum(numVotes)|\n",
      "+-------------+\n",
      "|1.014662838E9|\n",
      "+-------------+\n",
      "\n"
     ]
    },
    {
     "name": "stderr",
     "output_type": "stream",
     "text": [
      "\r",
      "                                                                                \r"
     ]
    }
   ],
   "source": [
    "# Total for the whole table\n",
    "df.createOrReplaceTempView(\"DF\")\n",
    "spark.sql(\"SELECT SUM(numVotes) FROM DF\").show()"
   ]
  },
  {
   "cell_type": "code",
   "execution_count": 17,
   "id": "566a96ca",
   "metadata": {},
   "outputs": [
    {
     "name": "stderr",
     "output_type": "stream",
     "text": [
      "[Stage 80:>                                                         (0 + 4) / 4]\r"
     ]
    },
    {
     "name": "stdout",
     "output_type": "stream",
     "text": [
      "+--------------------+-------------+\n",
      "|              genres|sum(numVotes)|\n",
      "+--------------------+-------------+\n",
      "|        Comedy,Sport|    2133109.0|\n",
      "|Action,Adventure,...|   2.526786E7|\n",
      "|Documentary,News,...|        296.0|\n",
      "|Documentary,Drama...|       3181.0|\n",
      "|Animation,Fantasy...|         32.0|\n",
      "|Biography,Thrille...|        349.0|\n",
      "|Animation,Sci-Fi,War|       1066.0|\n",
      "|Adventure,Family,...|    8603716.0|\n",
      "| Documentary,Western|       5049.0|\n",
      "|Comedy,Drama,Western|     111691.0|\n",
      "|Game-Show,Reality-TV|     288114.0|\n",
      "|Action,Fantasy,Hi...|       5200.0|\n",
      "|  Fantasy,Horror,War|        957.0|\n",
      "|Documentary,Myste...|       1290.0|\n",
      "|Fantasy,Mystery,T...|      27430.0|\n",
      "|Comedy,Family,His...|      13451.0|\n",
      "|   Documentary,Sport|     535769.0|\n",
      "|Action,Animation,...|     194074.0|\n",
      "|Action,Game-Show,...|       7488.0|\n",
      "|Fantasy,Sci-Fi,Th...|       7391.0|\n",
      "+--------------------+-------------+\n",
      "only showing top 20 rows\n",
      "\n"
     ]
    },
    {
     "name": "stderr",
     "output_type": "stream",
     "text": [
      "\r",
      "[Stage 80:==============>                                           (1 + 3) / 4]\r",
      "\r",
      "                                                                                \r"
     ]
    }
   ],
   "source": [
    "# Sum by Genre\n",
    "df.groupby('genres').sum('numVotes').show()"
   ]
  },
  {
   "cell_type": "markdown",
   "id": "65801890",
   "metadata": {},
   "source": [
    "### Rank the Titles by the raiting and number of votes"
   ]
  },
  {
   "cell_type": "code",
   "execution_count": 18,
   "id": "cdb9d6e2",
   "metadata": {},
   "outputs": [
    {
     "name": "stderr",
     "output_type": "stream",
     "text": [
      "                                                                                \r"
     ]
    },
    {
     "name": "stdout",
     "output_type": "stream",
     "text": [
      "+------------+--------------------+-------------+---------+\n",
      "|   titleType|        primaryTitle|averageRating| numVotes|\n",
      "+------------+--------------------+-------------+---------+\n",
      "|    tvSeries|   Friday Five Sharp|          9.8|   4075.0|\n",
      "|       movie|The Silence of Sw...|          9.6|  10330.0|\n",
      "|     tvMovie|Threat Level Midn...|          9.6|   8808.0|\n",
      "|    tvSeries|        Breaking Bad|          9.5|1915171.0|\n",
      "|tvMiniSeries|     Planet Earth II|          9.5| 147166.0|\n",
      "|    tvSeries|               Bluey|          9.5|  12611.0|\n",
      "|tvMiniSeries|           Chernobyl|          9.4| 768150.0|\n",
      "|tvMiniSeries|    Band of Brothers|          9.4| 474086.0|\n",
      "|tvMiniSeries|        Planet Earth|          9.4| 211349.0|\n",
      "|    tvSeries|         BB Ki Vines|          9.4|   9925.0|\n",
      "|       movie|The Shawshank Red...|          9.3|2696853.0|\n",
      "|    tvSeries|            The Wire|          9.3| 344326.0|\n",
      "|    tvSeries|Avatar: The Last ...|          9.3| 321148.0|\n",
      "|    tvSeries|Scam 1992: The Ha...|          9.3| 145730.0|\n",
      "|tvMiniSeries|Cosmos: A Spaceti...|          9.3| 123044.0|\n",
      "|tvMiniSeries|          Our Planet|          9.3|  44688.0|\n",
      "|tvMiniSeries|      Blue Planet II|          9.3|  42071.0|\n",
      "|    tvSeries|          The Chosen|          9.3|  32017.0|\n",
      "|    tvSeries|         Farouk Omar|          9.3|   6441.0|\n",
      "|tvMiniSeries|Seven Worlds One ...|          9.3|   5583.0|\n",
      "+------------+--------------------+-------------+---------+\n",
      "only showing top 20 rows\n",
      "\n"
     ]
    }
   ],
   "source": [
    "# Rank by descending order so the best are on top\n",
    "cols_to_view = ['titleType', 'primaryTitle', 'averageRating', 'numVotes']\n",
    "df.select(cols_to_view).where(df.numVotes >= 4000).sort(df.averageRating.desc(), df.numVotes.desc()).show()"
   ]
  },
  {
   "cell_type": "code",
   "execution_count": null,
   "id": "1555e998",
   "metadata": {},
   "outputs": [],
   "source": []
  }
 ],
 "metadata": {
  "kernelspec": {
   "display_name": "Python 3 (ipykernel)",
   "language": "python",
   "name": "python3"
  },
  "language_info": {
   "codemirror_mode": {
    "name": "ipython",
    "version": 3
   },
   "file_extension": ".py",
   "mimetype": "text/x-python",
   "name": "python",
   "nbconvert_exporter": "python",
   "pygments_lexer": "ipython3",
   "version": "3.9.6"
  }
 },
 "nbformat": 4,
 "nbformat_minor": 5
}
